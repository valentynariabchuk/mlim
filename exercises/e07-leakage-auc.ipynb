{
 "cells": [
  {
   "cell_type": "markdown",
   "metadata": {},
   "source": [
    "<img src=\"../img/hu-logo.png\" align=\"right\" width=\"120\">\n",
    "\n",
    "# By-feature AUC as feature evaluation\n",
    "\n",
    "\"Monitor\" value of individual features (and check for leakage) by computing by-feature AUC.\n",
    "\n",
    "A value of 1 or unusually large values (can) indicate leakage."
   ]
  },
  {
   "cell_type": "code",
   "execution_count": 1,
   "metadata": {},
   "outputs": [],
   "source": [
    "import numpy as np\n",
    "import pandas as pd\n",
    "import sklearn.metrics"
   ]
  },
  {
   "cell_type": "code",
   "execution_count": 2,
   "metadata": {},
   "outputs": [],
   "source": [
    "def pr_auc(y, p):\n",
    "    precision, recall, _ = sklearn.metrics.precision_recall_curve(y, p)\n",
    "    return sklearn.metrics.auc(recall, precision)"
   ]
  },
  {
   "cell_type": "code",
   "execution_count": 3,
   "metadata": {},
   "outputs": [],
   "source": [
    "def purchase_frequency(by, norm, week, baskets, index, variable=\"phat\", fillna=False):\n",
    "    baskets_t = baskets[baskets[\"week\"] < week]\n",
    "    if by is None:\n",
    "        pf_t = pd.DataFrame({variable: [baskets_t.shape[0] / (week * norm)]})\n",
    "    else:\n",
    "        pf_t = (\n",
    "            (baskets_t.groupby(by)[[\"week\"]].count() / (week * norm))\n",
    "            .rename(columns={\"week\": variable})\n",
    "            .reset_index()\n",
    "        )\n",
    "    pf_t[\"week\"] = week\n",
    "    out = index.copy().merge(\n",
    "        pf_t, on=[\"week\"] if by is None else [\"week\"] + by, how=\"left\"\n",
    "    )\n",
    "    if fillna:\n",
    "        out[variable].fillna(0, inplace=True)\n",
    "    else:\n",
    "        assert np.all(out[variable].notnull())\n",
    "    return out"
   ]
  },
  {
   "cell_type": "markdown",
   "metadata": {},
   "source": [
    "## Input"
   ]
  },
  {
   "cell_type": "code",
   "execution_count": 4,
   "metadata": {},
   "outputs": [],
   "source": [
    "I = 1_000"
   ]
  },
  {
   "cell_type": "markdown",
   "metadata": {},
   "source": [
    "## Data"
   ]
  },
  {
   "cell_type": "code",
   "execution_count": 5,
   "metadata": {},
   "outputs": [],
   "source": [
    "baskets = pd.read_parquet(\"/private/data/teaching/dr-s-2/baskets.parquet\")\n",
    "baskets = baskets[baskets[\"shopper\"] < I]\n",
    "# make features a little worse by removing large fraction of weeks\n",
    "baskets = baskets[baskets[\"week\"] > 70]\n",
    "baskets[\"y\"] = 1"
   ]
  },
  {
   "cell_type": "markdown",
   "metadata": {},
   "source": [
    "### Index DataFrame"
   ]
  },
  {
   "cell_type": "code",
   "execution_count": 6,
   "metadata": {},
   "outputs": [],
   "source": [
    "index_numpy = np.array(np.meshgrid(np.arange(I), np.arange(250), [89]))\n",
    "index = pd.DataFrame(\n",
    "    index_numpy.T.reshape(-1, 3), columns=[\"shopper\", \"product\", \"week\"]\n",
    ")"
   ]
  },
  {
   "cell_type": "markdown",
   "metadata": {},
   "source": [
    "### Target variable"
   ]
  },
  {
   "cell_type": "code",
   "execution_count": 7,
   "metadata": {},
   "outputs": [],
   "source": [
    "target = index.copy().merge(\n",
    "    baskets[[\"shopper\", \"product\", \"week\", \"y\"]],\n",
    "    on=[\"shopper\", \"product\", \"week\"],\n",
    "    how=\"left\",\n",
    ")\n",
    "target[\"y\"] = target[\"y\"].fillna(0).astype(int)"
   ]
  },
  {
   "cell_type": "markdown",
   "metadata": {},
   "source": [
    "### Data without target week, no leakage possible"
   ]
  },
  {
   "cell_type": "code",
   "execution_count": 8,
   "metadata": {},
   "outputs": [],
   "source": [
    "baskets_train = baskets[baskets[\"week\"] < 89]"
   ]
  },
  {
   "cell_type": "markdown",
   "metadata": {},
   "source": [
    "### Two meaningful features"
   ]
  },
  {
   "cell_type": "code",
   "execution_count": 9,
   "metadata": {},
   "outputs": [],
   "source": [
    "shopper_product_frequency = purchase_frequency(\n",
    "    [\"shopper\", \"product\"],\n",
    "    1,\n",
    "    89,\n",
    "    baskets_train,\n",
    "    index,\n",
    "    \"shopper_product_frequency\",\n",
    "    True,\n",
    ")"
   ]
  },
  {
   "cell_type": "code",
   "execution_count": 10,
   "metadata": {},
   "outputs": [],
   "source": [
    "product_frequency = purchase_frequency(\n",
    "    [\"product\"], I, 89, baskets_train, index, \"product_frequency\", True\n",
    ")"
   ]
  },
  {
   "cell_type": "markdown",
   "metadata": {},
   "source": [
    "### One useless feature"
   ]
  },
  {
   "cell_type": "code",
   "execution_count": 11,
   "metadata": {},
   "outputs": [
    {
     "data": {
      "text/html": [
       "<div>\n",
       "<style scoped>\n",
       "    .dataframe tbody tr th:only-of-type {\n",
       "        vertical-align: middle;\n",
       "    }\n",
       "\n",
       "    .dataframe tbody tr th {\n",
       "        vertical-align: top;\n",
       "    }\n",
       "\n",
       "    .dataframe thead th {\n",
       "        text-align: right;\n",
       "    }\n",
       "</style>\n",
       "<table border=\"1\" class=\"dataframe\">\n",
       "  <thead>\n",
       "    <tr style=\"text-align: right;\">\n",
       "      <th></th>\n",
       "      <th>shopper</th>\n",
       "      <th>product</th>\n",
       "      <th>week</th>\n",
       "      <th>random</th>\n",
       "    </tr>\n",
       "  </thead>\n",
       "  <tbody>\n",
       "    <tr>\n",
       "      <th>0</th>\n",
       "      <td>0</td>\n",
       "      <td>0</td>\n",
       "      <td>89</td>\n",
       "      <td>0.071560</td>\n",
       "    </tr>\n",
       "    <tr>\n",
       "      <th>1</th>\n",
       "      <td>0</td>\n",
       "      <td>1</td>\n",
       "      <td>89</td>\n",
       "      <td>0.081979</td>\n",
       "    </tr>\n",
       "    <tr>\n",
       "      <th>2</th>\n",
       "      <td>0</td>\n",
       "      <td>2</td>\n",
       "      <td>89</td>\n",
       "      <td>0.032394</td>\n",
       "    </tr>\n",
       "    <tr>\n",
       "      <th>3</th>\n",
       "      <td>0</td>\n",
       "      <td>3</td>\n",
       "      <td>89</td>\n",
       "      <td>0.418805</td>\n",
       "    </tr>\n",
       "    <tr>\n",
       "      <th>4</th>\n",
       "      <td>0</td>\n",
       "      <td>4</td>\n",
       "      <td>89</td>\n",
       "      <td>0.841159</td>\n",
       "    </tr>\n",
       "    <tr>\n",
       "      <th>...</th>\n",
       "      <td>...</td>\n",
       "      <td>...</td>\n",
       "      <td>...</td>\n",
       "      <td>...</td>\n",
       "    </tr>\n",
       "    <tr>\n",
       "      <th>249995</th>\n",
       "      <td>999</td>\n",
       "      <td>245</td>\n",
       "      <td>89</td>\n",
       "      <td>0.038118</td>\n",
       "    </tr>\n",
       "    <tr>\n",
       "      <th>249996</th>\n",
       "      <td>999</td>\n",
       "      <td>246</td>\n",
       "      <td>89</td>\n",
       "      <td>0.870998</td>\n",
       "    </tr>\n",
       "    <tr>\n",
       "      <th>249997</th>\n",
       "      <td>999</td>\n",
       "      <td>247</td>\n",
       "      <td>89</td>\n",
       "      <td>0.841299</td>\n",
       "    </tr>\n",
       "    <tr>\n",
       "      <th>249998</th>\n",
       "      <td>999</td>\n",
       "      <td>248</td>\n",
       "      <td>89</td>\n",
       "      <td>0.806869</td>\n",
       "    </tr>\n",
       "    <tr>\n",
       "      <th>249999</th>\n",
       "      <td>999</td>\n",
       "      <td>249</td>\n",
       "      <td>89</td>\n",
       "      <td>0.651944</td>\n",
       "    </tr>\n",
       "  </tbody>\n",
       "</table>\n",
       "<p>250000 rows × 4 columns</p>\n",
       "</div>"
      ],
      "text/plain": [
       "        shopper  product  week    random\n",
       "0             0        0    89  0.071560\n",
       "1             0        1    89  0.081979\n",
       "2             0        2    89  0.032394\n",
       "3             0        3    89  0.418805\n",
       "4             0        4    89  0.841159\n",
       "...         ...      ...   ...       ...\n",
       "249995      999      245    89  0.038118\n",
       "249996      999      246    89  0.870998\n",
       "249997      999      247    89  0.841299\n",
       "249998      999      248    89  0.806869\n",
       "249999      999      249    89  0.651944\n",
       "\n",
       "[250000 rows x 4 columns]"
      ]
     },
     "execution_count": 11,
     "metadata": {},
     "output_type": "execute_result"
    }
   ],
   "source": [
    "random_feature = index.copy()\n",
    "random_feature[\"random\"] = np.random.uniform(0, 1, random_feature.shape[0])\n",
    "random_feature"
   ]
  },
  {
   "cell_type": "markdown",
   "metadata": {},
   "source": [
    "### Two features with target variable leakage"
   ]
  },
  {
   "cell_type": "code",
   "execution_count": 12,
   "metadata": {},
   "outputs": [],
   "source": [
    "tmp = (\n",
    "    baskets[baskets[\"week\"] > 86]\n",
    "    .groupby([\"shopper\", \"product\"], as_index=False)[[\"y\"]]\n",
    "    .sum()\n",
    ")\n",
    "tmp[\"y_int\"] = 1\n",
    "last_three_weeks = index.copy().merge(\n",
    "    tmp[[\"shopper\", \"product\", \"y_int\"]], on=[\"shopper\", \"product\"], how=\"left\"\n",
    ")\n",
    "last_three_weeks[\"y_int\"] = last_three_weeks[\"y_int\"].fillna(0).astype(int)"
   ]
  },
  {
   "cell_type": "code",
   "execution_count": 13,
   "metadata": {},
   "outputs": [],
   "source": [
    "tmp = (\n",
    "    baskets[baskets[\"week\"] > 88]\n",
    "    .groupby([\"shopper\", \"product\"], as_index=False)[[\"y\"]]\n",
    "    .sum()\n",
    ")\n",
    "tmp[\"y_int\"] = 1\n",
    "last_week = index.copy().merge(\n",
    "    tmp[[\"shopper\", \"product\", \"y_int\"]], on=[\"shopper\", \"product\"], how=\"left\"\n",
    ")\n",
    "last_week[\"y_int\"] = last_week[\"y_int\"].fillna(0).astype(int)"
   ]
  },
  {
   "cell_type": "markdown",
   "metadata": {},
   "source": [
    "## Evaluation\n",
    "\n",
    "### Check that indices are identical ...\n",
    "\n",
    "... so we don't need to merge."
   ]
  },
  {
   "cell_type": "code",
   "execution_count": 14,
   "metadata": {},
   "outputs": [],
   "source": [
    "idx = [\"shopper\", \"product\", \"week\"]\n",
    "assert np.all(target[idx].values == shopper_product_frequency[idx].values)\n",
    "assert np.all(target[idx].values == product_frequency[idx].values)\n",
    "assert np.all(target[idx].values == random_feature[idx].values)\n",
    "assert np.all(target[idx].values == last_three_weeks[idx].values)\n",
    "assert np.all(target[idx].values == last_week[idx].values)"
   ]
  },
  {
   "cell_type": "markdown",
   "metadata": {},
   "source": [
    "### Clean features"
   ]
  },
  {
   "cell_type": "code",
   "execution_count": 15,
   "metadata": {},
   "outputs": [
    {
     "data": {
      "text/plain": [
       "0.40822672984832264"
      ]
     },
     "execution_count": 15,
     "metadata": {},
     "output_type": "execute_result"
    }
   ],
   "source": [
    "pr_auc(target[\"y\"], shopper_product_frequency[\"shopper_product_frequency\"])"
   ]
  },
  {
   "cell_type": "code",
   "execution_count": 16,
   "metadata": {},
   "outputs": [
    {
     "data": {
      "text/plain": [
       "0.06303721659220562"
      ]
     },
     "execution_count": 16,
     "metadata": {},
     "output_type": "execute_result"
    }
   ],
   "source": [
    "pr_auc(target[\"y\"], product_frequency[\"product_frequency\"])"
   ]
  },
  {
   "cell_type": "code",
   "execution_count": 17,
   "metadata": {},
   "outputs": [
    {
     "data": {
      "text/plain": [
       "0.02998192635303184"
      ]
     },
     "execution_count": 17,
     "metadata": {},
     "output_type": "execute_result"
    }
   ],
   "source": [
    "pr_auc(target[\"y\"], random_feature[\"random\"])"
   ]
  },
  {
   "cell_type": "markdown",
   "metadata": {},
   "source": [
    "### Features with leakage"
   ]
  },
  {
   "cell_type": "code",
   "execution_count": 18,
   "metadata": {},
   "outputs": [
    {
     "data": {
      "text/plain": [
       "0.7174136748227762"
      ]
     },
     "execution_count": 18,
     "metadata": {},
     "output_type": "execute_result"
    }
   ],
   "source": [
    "pr_auc(target[\"y\"], last_three_weeks[\"y_int\"])"
   ]
  },
  {
   "cell_type": "code",
   "execution_count": 19,
   "metadata": {},
   "outputs": [
    {
     "data": {
      "text/plain": [
       "1.0"
      ]
     },
     "execution_count": 19,
     "metadata": {},
     "output_type": "execute_result"
    }
   ],
   "source": [
    "pr_auc(target[\"y\"], last_week[\"y_int\"])"
   ]
  },
  {
   "cell_type": "markdown",
   "metadata": {},
   "source": [
    "&mdash; <br>\n",
    "Dr. Sebastian Gabel <br>\n",
    "Machine Learning in Marketing &ndash; Exercise 7 <br>\n",
    "2020 <br>"
   ]
  }
 ],
 "metadata": {
  "kernelspec": {
   "display_name": "Python 3",
   "language": "python",
   "name": "python3"
  },
  "language_info": {
   "codemirror_mode": {
    "name": "ipython",
    "version": 3
   },
   "file_extension": ".py",
   "mimetype": "text/x-python",
   "name": "python",
   "nbconvert_exporter": "python",
   "pygments_lexer": "ipython3",
   "version": "3.8.6"
  }
 },
 "nbformat": 4,
 "nbformat_minor": 4
}
